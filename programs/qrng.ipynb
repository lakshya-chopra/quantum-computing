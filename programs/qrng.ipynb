{
 "cells": [
  {
   "cell_type": "code",
   "execution_count": 90,
   "metadata": {},
   "outputs": [],
   "source": [
    "from qiskit import *\n",
    "from qiskit_aer import Aer\n",
    "\n",
    "import numpy\n",
    "import math\n",
    "from qiskit.visualization import *"
   ]
  },
  {
   "cell_type": "code",
   "execution_count": 91,
   "metadata": {},
   "outputs": [],
   "source": [
    "circuit_ = None\n",
    "bit_cache = \"\"\n",
    "backend = 'qasm_simulator'\n",
    "sim = Aer.get_backend(backend)"
   ]
  },
  {
   "cell_type": "code",
   "execution_count": 92,
   "metadata": {},
   "outputs": [],
   "source": [
    "def init_circuit(n:int):\n",
    "    \"\"\"\n",
    "        n: no of qubits, integer\n",
    "    \"\"\"\n",
    "\n",
    "    qr = QuantumRegister(n)\n",
    "    cr = ClassicalRegister(n)\n",
    "\n",
    "    global circuit_ #access & modify the global variable\n",
    "    circuit_ = QuantumCircuit(qr,cr) \n",
    "    circuit_.reset(range(n))\n",
    "\n",
    "    circuit_.h(qr)\n",
    "\n",
    "    circuit_.measure(qr,cr) # allows one to obtain a random qubit\n",
    "\n",
    "\n",
    "init_circuit(7)"
   ]
  },
  {
   "cell_type": "code",
   "execution_count": 93,
   "metadata": {},
   "outputs": [],
   "source": [
    "def request_bits(length):\n",
    "    global bit_cache\n",
    "\n",
    "    l = len(bit_cache)\n",
    "    if l < length:\n",
    "        iterations = length - l\n",
    "\n",
    "        for i in range(iterations):\n",
    "            res = sim.run(circuit_,shots=1).result() #run only one time and get the bitstring that we got and then get the first bit.\n",
    "            counts = res.get_counts()\n",
    "            \n",
    "            for k,v in counts.items():\n",
    "                if v == 1: #occured\n",
    "                    # print(k)\n",
    "                    bit_ = k[0]\n",
    "                    break\n",
    "            bit_cache += bit_\n",
    "\n",
    "        \"\"\"we are basically getting the random bitstring that has been generated and saving it's first bit to the bit_cache to ultimately create a \n",
    "            randomly generated bitstring\n",
    "        \"\"\"\n",
    "\n"
   ]
  },
  {
   "cell_type": "code",
   "execution_count": 94,
   "metadata": {},
   "outputs": [],
   "source": [
    "def get_random_bitstring(length:int):\n",
    "\n",
    "    if len(bit_cache) != length:\n",
    "        request_bits(length)\n",
    "    return bit_cache"
   ]
  },
  {
   "cell_type": "code",
   "execution_count": 95,
   "metadata": {},
   "outputs": [
    {
     "name": "stdout",
     "output_type": "stream",
     "text": [
      "The Random bitstring is: 10000 , iteration number 1.\n",
      "The Random bitstring is: 01010 , iteration number 2.\n",
      "The Random bitstring is: 11011 , iteration number 3.\n",
      "The Random bitstring is: 01000 , iteration number 4.\n",
      "The Random bitstring is: 00100 , iteration number 5.\n"
     ]
    }
   ],
   "source": [
    "for i in range(5):\n",
    "    bit_cache = ''\n",
    "    random_bitstr = get_random_bitstring(5)\n",
    "    print(f\"The Random bitstring is: {random_bitstr} , iteration number {i+1}.\")"
   ]
  }
 ],
 "metadata": {
  "kernelspec": {
   "display_name": "Python 3",
   "language": "python",
   "name": "python3"
  },
  "language_info": {
   "codemirror_mode": {
    "name": "ipython",
    "version": 3
   },
   "file_extension": ".py",
   "mimetype": "text/x-python",
   "name": "python",
   "nbconvert_exporter": "python",
   "pygments_lexer": "ipython3",
   "version": "3.12.2"
  }
 },
 "nbformat": 4,
 "nbformat_minor": 2
}
