{
 "cells": [
  {
   "cell_type": "code",
   "execution_count": 2,
   "id": "2e7a77fd",
   "metadata": {},
   "outputs": [],
   "source": [
    "from qiskit import *\n",
    "from qiskit.visualization import plot_histogram\n",
    "import numpy as np"
   ]
  },
  {
   "cell_type": "code",
   "execution_count": 1,
   "id": "a0968c87",
   "metadata": {},
   "outputs": [],
   "source": [
    "\n",
    "#Deutsch-Josza\n",
    "class DeustchJosza:\n",
    "    \n",
    "    def __init__(self,inps,oracle_type,bstring):\n",
    "        self.n = inps\n",
    "        self.oracle_type = oracle_type\n",
    "        self.bstring = bstring #input bitstring\n",
    "        \n",
    "    def oracle(self):\n",
    "        \n",
    "        self.oracle_circ = QuantumCircuit(self.n+1)\n",
    "        \n",
    "        if self.oracle_type == 'balanced':\n",
    "            self.oracle_val = np.random.randint(2)\n",
    "            print('This oracle is balanced with half of the values being:',self.oracle_val)\n",
    "            \n",
    "            for i in range(self.n):\n",
    "                self.oracle_circ.cx(i,n)\n",
    "            \n",
    "        else:\n",
    "            self.oracle_val = np.random.randint(2)\n",
    "            print('This oracle is constant with the value being:',self.oracle_val)\n",
    "            \n",
    "        self.oracle_gate = self.oracle_circ.to_gate()\n",
    "        self.oracle_gate.name = \"Oracle\" \n",
    "        \n",
    "        return self.oracle_gate\n",
    "  \n",
    "    def dj(self):\n",
    "        self.qc = QuantumCircuit(self.n+1,self.n)\n",
    "        \n",
    "        self.qc.reset(range(n+1))\n",
    "        self.qc.h(range(n))\n",
    "\n",
    "        self.qc.x(n)\n",
    "        self.qc.h(n)\n",
    "        \n",
    "        self.barrier()\n",
    "        \n",
    "        self.qc.append(self.oracle(),range(n+1))\n",
    "            \n",
    "        self.barrier()\n",
    "        \n",
    "        self.qc.h(range(n))\n",
    "        self.qc.measure(range(n),range(n))\n",
    "        \n",
    "        return self.dj_circuit\n",
    "        \n",
    "    \n",
    "\n"
   ]
  },
  {
   "cell_type": "code",
   "execution_count": null,
   "id": "64f595d5",
   "metadata": {},
   "outputs": [],
   "source": [
    "\n"
   ]
  }
 ],
 "metadata": {
  "kernelspec": {
   "display_name": "Python 3 (ipykernel)",
   "language": "python",
   "name": "python3"
  },
  "language_info": {
   "codemirror_mode": {
    "name": "ipython",
    "version": 3
   },
   "file_extension": ".py",
   "mimetype": "text/x-python",
   "name": "python",
   "nbconvert_exporter": "python",
   "pygments_lexer": "ipython3",
   "version": "3.7.8"
  }
 },
 "nbformat": 4,
 "nbformat_minor": 5
}
