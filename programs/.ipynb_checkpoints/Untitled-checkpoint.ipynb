{
 "cells": [
  {
   "cell_type": "code",
   "execution_count": 32,
   "id": "329289c8",
   "metadata": {},
   "outputs": [
    {
     "name": "stdout",
     "output_type": "stream",
     "text": [
      "65536\n"
     ]
    }
   ],
   "source": [
    "from PIL import Image\n",
    "from qiskit import *\n",
    "\n",
    "# plumber_img = {(0, 0): (255, 255, 255), (0, 1): (255, 255, 255), (0, 2): (255, 255, 255), (0, 3): (255, 0, 0), (0, 4): (255, 0, 0), (0, 5): (255, 0, 0), (0, 6): (255, 255, 255), (0, 7): (92, 64, 51), (1, 0): (255, 255, 255), (1, 1): (255, 0, 0), (1, 2): (255, 255, 255), (1, 3): (0, 0, 255), (1, 4): (0, 0, 255), (1, 5): (0, 0, 255), (1, 6): (0, 0, 255), (1, 7): (92, 64, 51), (2, 0): (255, 0, 0), (2, 1): (255, 0, 0), (2, 2): (255, 192, 203), (2, 3): (255, 0, 0), (2, 4): (0, 0, 255), (2, 5): (0, 0, 255), (2, 6): (255, 255, 255), (2, 7): (255, 255, 255), (3, 0): (255, 0, 0), (3, 1): (255, 0, 0), (3, 2): (255, 192, 203), (3, 3): (255, 0, 0), (3, 4): (0, 0, 255), (3, 5): (0, 0, 255), (3, 6): (255, 255, 255), (3, 7): (255, 255, 255), (4, 0): (255, 255, 255), (4, 1): (255, 0, 0), (4, 2): (255, 255, 255), (4, 3): (0, 0, 255), (4, 4): (0, 0, 255), (4, 5): (0, 0, 255), (4, 6): (0, 0, 255), (4, 7): (92, 64, 51), (5, 0): (255, 255, 255), (5, 1): (255, 255, 255), (5, 2): (255, 255, 255), (5, 3): (255, 0, 0), (5, 4): (255, 0, 0), (5, 5): (255, 0, 0), (5, 6): (255, 255, 255), (5, 7): (92, 64, 51), (6, 0): (255, 255, 255), (6, 1): (255, 255, 255), (6, 2): (255, 255, 255), (6, 3): (255, 255, 255), (6, 4): (255, 255, 255), (6, 5): (210, 180, 140), (6, 6): (255, 255, 255), (6, 7): (255, 255, 255), (7, 0): (255, 255, 255), (7, 1): (255, 255, 255), (7, 2): (255, 255, 255), (7, 3): (107, 92, 72), (7, 4): (210, 180, 140), (7, 5): (107, 92, 72), (7, 6): (255, 255, 255), (7, 7): (255, 255, 255)}\n",
    "\n",
    "# fname = 'Image1.png'\n",
    "\n",
    "\n",
    "def image_to_rgb_dict(image_path):\n",
    "    img = Image.open(image_path)\n",
    "    rgb_dict = {}\n",
    "\n",
    "    for i in range(img.size[0]):\n",
    "        for j in range(img.size[1]):\n",
    "            rgb_dict[(i, j)] = img.getpixel((i, j))\n",
    "\n",
    "    return rgb_dict\n",
    "\n",
    "image_path = 'outputs/plumber.png'\n",
    "plumber = image_to_rgb_dict(image_path)\n",
    "print(len(result_dict.keys())) #2^16 => 16 pixels.\n"
   ]
  },
  {
   "cell_type": "code",
   "execution_count": 37,
   "id": "d050b2b5",
   "metadata": {},
   "outputs": [],
   "source": [
    "def save_img(image,filename='Image.png',scale=None):\n",
    "    \n",
    "    img = Image.new('RGB',(16,16))\n",
    "    print(img.size)\n",
    "    \n",
    "    for i in range(img.size[0]):\n",
    "        \n",
    "        for j in range(img.size[1]):\n",
    "            \n",
    "            img.load()[i,j] = image[i,j] # i and j coords of our new image set equal to the x and y of the image passed.\n",
    "            \n",
    "    if scale:\n",
    "        img = img.resize(scale,Image.LANCZOS)\n",
    "        \n",
    "    img.save('outputs/'+fname)\n",
    "    \n",
    "# save_img(plumber_img,scale=(256,256))\n",
    "\n",
    "# display(Image.open(f'./outputs/{fname}'))\n",
    "\n",
    "n = 16"
   ]
  },
  {
   "cell_type": "code",
   "execution_count": 34,
   "id": "3221e40a",
   "metadata": {},
   "outputs": [],
   "source": [
    "#now renormalize bitstrings:\n",
    "import numpy as np\n",
    "\n",
    "L = int(2**(n/2))\n",
    "\n",
    "grid = {}\n",
    "for y in range(L):\n",
    "    for x in range(L):\n",
    "        grid[(x,y)] = ''\n",
    "\n",
    "for (x,y) in grid:\n",
    "    for j in range(n):\n",
    "        if (j%2)==0:\n",
    "            xx = np.floor(x/2**(j/2))\n",
    "            grid[(x,y)] = str( int( ( xx + np.floor(xx/2) )%2 ) ) + grid[(x,y)]\n",
    "        else:\n",
    "            yy = np.floor(y/2**((j-1)/2))\n",
    "            grid[(x,y)] = str( int( ( yy + np.floor(yy/2) )%2 ) ) + grid[(x,y)]"
   ]
  },
  {
   "cell_type": "code",
   "execution_count": 42,
   "id": "70d4038d",
   "metadata": {},
   "outputs": [
    {
     "ename": "IndexError",
     "evalue": "tuple index out of range",
     "output_type": "error",
     "traceback": [
      "\u001b[1;31m---------------------------------------------------------------------------\u001b[0m",
      "\u001b[1;31mIndexError\u001b[0m                                Traceback (most recent call last)",
      "\u001b[1;32m~\\AppData\\Local\\Temp\\ipykernel_6140\\1850791565.py\u001b[0m in \u001b[0;36m<module>\u001b[1;34m\u001b[0m\n\u001b[0;32m     15\u001b[0m \u001b[1;33m\u001b[0m\u001b[0m\n\u001b[0;32m     16\u001b[0m \u001b[1;33m\u001b[0m\u001b[0m\n\u001b[1;32m---> 17\u001b[1;33m \u001b[0mstate\u001b[0m \u001b[1;33m=\u001b[0m \u001b[0mimage2state\u001b[0m\u001b[1;33m(\u001b[0m\u001b[0mplumber\u001b[0m\u001b[1;33m,\u001b[0m\u001b[0mgrid\u001b[0m\u001b[1;33m)\u001b[0m\u001b[1;33m\u001b[0m\u001b[1;33m\u001b[0m\u001b[0m\n\u001b[0m",
      "\u001b[1;32m~\\AppData\\Local\\Temp\\ipykernel_6140\\1850791565.py\u001b[0m in \u001b[0;36mimage2state\u001b[1;34m(image, grid)\u001b[0m\n\u001b[0;32m      6\u001b[0m     \u001b[1;32mfor\u001b[0m \u001b[0mpos\u001b[0m \u001b[1;32min\u001b[0m \u001b[0mimage\u001b[0m\u001b[1;33m:\u001b[0m\u001b[1;33m\u001b[0m\u001b[1;33m\u001b[0m\u001b[0m\n\u001b[0;32m      7\u001b[0m         \u001b[1;32mfor\u001b[0m \u001b[0mj\u001b[0m \u001b[1;32min\u001b[0m \u001b[0mrange\u001b[0m\u001b[1;33m(\u001b[0m\u001b[1;36m4\u001b[0m\u001b[1;33m)\u001b[0m\u001b[1;33m:\u001b[0m\u001b[1;33m\u001b[0m\u001b[1;33m\u001b[0m\u001b[0m\n\u001b[1;32m----> 8\u001b[1;33m             \u001b[0mstate\u001b[0m\u001b[1;33m[\u001b[0m\u001b[0mj\u001b[0m\u001b[1;33m]\u001b[0m\u001b[1;33m[\u001b[0m \u001b[0mint\u001b[0m\u001b[1;33m(\u001b[0m\u001b[0mgrid\u001b[0m\u001b[1;33m[\u001b[0m\u001b[0mpos\u001b[0m\u001b[1;33m]\u001b[0m\u001b[1;33m,\u001b[0m\u001b[1;36m2\u001b[0m\u001b[1;33m)\u001b[0m \u001b[1;33m]\u001b[0m \u001b[1;33m=\u001b[0m \u001b[0mnp\u001b[0m\u001b[1;33m.\u001b[0m\u001b[0msqrt\u001b[0m\u001b[1;33m(\u001b[0m \u001b[0mimage\u001b[0m\u001b[1;33m[\u001b[0m\u001b[0mpos\u001b[0m\u001b[1;33m]\u001b[0m\u001b[1;33m[\u001b[0m\u001b[0mj\u001b[0m\u001b[1;33m]\u001b[0m \u001b[1;33m)\u001b[0m \u001b[1;31m# amplitude is square root of colour value\u001b[0m\u001b[1;33m\u001b[0m\u001b[1;33m\u001b[0m\u001b[0m\n\u001b[0m\u001b[0;32m      9\u001b[0m \u001b[1;33m\u001b[0m\u001b[0m\n\u001b[0;32m     10\u001b[0m \u001b[1;31m#     for j in range(1):\u001b[0m\u001b[1;33m\u001b[0m\u001b[1;33m\u001b[0m\u001b[1;33m\u001b[0m\u001b[0m\n",
      "\u001b[1;31mIndexError\u001b[0m: tuple index out of range"
     ]
    }
   ],
   "source": [
    "def image2state(image,grid):\n",
    "    \n",
    "    N = len(grid)\n",
    "    state = [[0]*N,[0]*N,[0]*N] # different states for R, G and B\n",
    "\n",
    "    for pos in image:\n",
    "        for j in range(4):\n",
    "            state[j][ int(grid[pos],2) ] = np.sqrt( image[pos][j] ) # amplitude is square root of colour value\n",
    "\n",
    "    for j in range(4):        \n",
    "        Z = sum(np.absolute(state[j])**2)\n",
    "        state[j] = [amp / np.sqrt(Z) for amp in state[j]] # amplitudes are normalized\n",
    "        \n",
    "    return state\n",
    "\n",
    "\n",
    "state = image2state(plumber,grid)"
   ]
  },
  {
   "cell_type": "code",
   "execution_count": null,
   "id": "b6b89557",
   "metadata": {},
   "outputs": [],
   "source": [
    "sim = Aer.get_backend('statevector_simulator')\n",
    "def ket2counts (ket):\n",
    "    \n",
    "    counts = {}\n",
    "    N = len(ket)\n",
    "    n = int( np.log(N)/np.log(2) ) # figure out the qubit number that this state describes\n",
    "    for j in range(N):\n",
    "        string = bin(j)[2:]\n",
    "        string = '0'*(n-len(string)) + string\n",
    "        counts[string] = np.absolute(ket[j])**2 # square amplitudes to get probabilities\n",
    "    \n",
    "    return counts\n",
    "\n",
    "q = QuantumRegister(n)\n",
    "\n",
    "counts = []\n",
    "for j in range(4): # j=0 for red, j=1 for green, j=2 for blue\n",
    "    qc = QuantumCircuit(q)\n",
    "    qc.initialize( state[j], q )\n",
    "    job = execute(qc, backend)\n",
    "    counts.append( ket2counts( job.result().get_statevector() ) )"
   ]
  },
  {
   "cell_type": "code",
   "execution_count": 36,
   "id": "a0427714",
   "metadata": {},
   "outputs": [
    {
     "ename": "NameError",
     "evalue": "name 'save_image' is not defined",
     "output_type": "error",
     "traceback": [
      "\u001b[1;31m---------------------------------------------------------------------------\u001b[0m",
      "\u001b[1;31mNameError\u001b[0m                                 Traceback (most recent call last)",
      "\u001b[1;32m~\\AppData\\Local\\Temp\\ipykernel_6140\\1805368708.py\u001b[0m in \u001b[0;36m<module>\u001b[1;34m\u001b[0m\n\u001b[0;32m     19\u001b[0m \u001b[1;33m\u001b[0m\u001b[0m\n\u001b[0;32m     20\u001b[0m \u001b[1;33m\u001b[0m\u001b[0m\n\u001b[1;32m---> 21\u001b[1;33m \u001b[0msave_image\u001b[0m\u001b[1;33m(\u001b[0m \u001b[0mcounts2image\u001b[0m\u001b[1;33m(\u001b[0m\u001b[0mcounts\u001b[0m\u001b[1;33m,\u001b[0m\u001b[0mgrid\u001b[0m\u001b[1;33m)\u001b[0m\u001b[1;33m,\u001b[0m \u001b[0mscale\u001b[0m\u001b[1;33m=\u001b[0m\u001b[1;33m[\u001b[0m\u001b[1;36m300\u001b[0m\u001b[1;33m,\u001b[0m\u001b[1;36m300\u001b[0m\u001b[1;33m]\u001b[0m\u001b[1;33m,\u001b[0m \u001b[0mfilename\u001b[0m\u001b[1;33m=\u001b[0m\u001b[1;34m'image2.png'\u001b[0m \u001b[1;33m)\u001b[0m\u001b[1;33m\u001b[0m\u001b[1;33m\u001b[0m\u001b[0m\n\u001b[0m\u001b[0;32m     22\u001b[0m \u001b[0mdisplay\u001b[0m\u001b[1;33m(\u001b[0m\u001b[0mImage\u001b[0m\u001b[1;33m.\u001b[0m\u001b[0mopen\u001b[0m\u001b[1;33m(\u001b[0m\u001b[1;34m'outputs/image2.png'\u001b[0m\u001b[1;33m)\u001b[0m\u001b[1;33m)\u001b[0m\u001b[1;33m\u001b[0m\u001b[1;33m\u001b[0m\u001b[0m\n",
      "\u001b[1;31mNameError\u001b[0m: name 'save_image' is not defined"
     ]
    }
   ],
   "source": [
    "def counts2image(counts,grid):\n",
    "    \n",
    "    image = { pos:[0,0,0] for pos in grid}\n",
    "\n",
    "    for j in range(4):\n",
    "\n",
    "        rescale = 255/max(counts[j].values()) # rescale so that largest probability becomes value of 255\n",
    "\n",
    "        for pos in image:\n",
    "            try:\n",
    "                image[pos][j] = int( rescale*counts[j][grid[pos]] )\n",
    "            except:\n",
    "                image[pos][j] = int( rescale*counts[j][grid[pos]] )\n",
    "\n",
    "    for pos in image:\n",
    "        image[pos] = tuple(image[pos])\n",
    "\n",
    "    return image\n",
    "\n",
    "\n",
    "save_image( counts2image(counts,grid), scale=[300,300], filename='image2.png' )\n",
    "display(Image.open('outputs/image2.png'))"
   ]
  },
  {
   "cell_type": "code",
   "execution_count": 50,
   "id": "d218d22d",
   "metadata": {
    "scrolled": true
   },
   "outputs": [
    {
     "data": {
      "image/png": "[encoded data removed]",
      "text/plain": [
       "<Figure size 789.163x367.889 with 1 Axes>"
      ]
     },
     "metadata": {},
     "output_type": "display_data"
    }
   ],
   "source": [
    "from qiskit.visualization import plot_histogram\n",
    "qc = QuantumCircuit(3,3)\n",
    "\n",
    "qc.reset(range(3))\n",
    "\n",
    "qc.h(0)\n",
    "qc.cx(0,1)\n",
    "\n",
    "# qc.h(1)\n",
    "# qc.cx(1,2)\n",
    "\n",
    "qc.measure([0,1],[0,1])\n",
    "qc.measure([2],[2])\n",
    "\n",
    "display(qc.draw('mpl'))\n"
   ]
  },
  {
   "cell_type": "code",
   "execution_count": 51,
   "id": "8e959b3d",
   "metadata": {},
   "outputs": [
    {
     "data": {
      "image/png": "[encoded data removed]",
      "text/plain": [
       "<Figure size 700x500 with 1 Axes>"
      ]
     },
     "execution_count": 51,
     "metadata": {},
     "output_type": "execute_result"
    }
   ],
   "source": [
    "sim = Aer.get_backend('qasm_simulator')\n",
    "res = execute(qc,sim,shots=20).result()\n",
    "\n",
    "plot_histogram(res.get_counts())"
   ]
  }
 ],
 "metadata": {
  "kernelspec": {
   "display_name": "Python 3 (ipykernel)",
   "language": "python",
   "name": "python3"
  },
  "language_info": {
   "codemirror_mode": {
    "name": "ipython",
    "version": 3
   },
   "file_extension": ".py",
   "mimetype": "text/x-python",
   "name": "python",
   "nbconvert_exporter": "python",
   "pygments_lexer": "ipython3",
   "version": "3.7.8"
  }
 },
 "nbformat": 4,
 "nbformat_minor": 5
}
